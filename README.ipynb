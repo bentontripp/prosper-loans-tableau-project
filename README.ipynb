{
 "cells": [
  {
   "cell_type": "markdown",
   "id": "8dcf6b91",
   "metadata": {},
   "source": [
    "## Tableau Story - Prosper Loans\n",
    "#### A Brief Visual Overview of Prosper Loan Borrower Rates"
   ]
  },
  {
   "cell_type": "markdown",
   "id": "3160626a",
   "metadata": {},
   "source": [
    "*By Benton Tripp*"
   ]
  },
  {
   "cell_type": "markdown",
   "id": "dd07cc1c",
   "metadata": {},
   "source": [
    "### Introduction"
   ]
  },
  {
   "cell_type": "markdown",
   "id": "b639159e",
   "metadata": {},
   "source": [
    "This project provides an overview of Prosper loan interest rates using visualizations in Tableau.<br>\n",
    "\n",
    "On Prosper's website, the company is described as the following: <br>\n",
    "\n",
    "\"*Prosper was founded in 2005 as the first peer-to-peer lending marketplace in the United States. Since then, Prosper has facilitated more than 18 billion dollars in loans to more than 1,100,000 people.* <br>\n",
    "\n",
    "*Through Prosper, people can invest in each other in a way that is financially and socially rewarding. Borrowers apply online for a fixed-rate, fixed-term loan between 2,000 & 40,000 dollars. Individuals and institutions can invest in the loans and earn attractive returns. Prosper handles all loan servicing on behalf of the matched borrowers and investors.*\"<br>\n",
    "\n",
    "(*see* https://www.prosper.com/about *for more information about Prosper*)"
   ]
  },
  {
   "cell_type": "markdown",
   "id": "08399970",
   "metadata": {},
   "source": [
    "### Summary and Project Overview"
   ]
  },
  {
   "cell_type": "markdown",
   "id": "eab1c120",
   "metadata": {},
   "source": [
    "The project investigates the Prosper interest Rates, as well as the relationships between rates and: <br>\n",
    " - Year\n",
    " - Total Annual Income\n",
    " - Whether Income is Verifiable\n",
    " - Open Credit Lines\n",
    " - Location (State) "
   ]
  },
  {
   "cell_type": "markdown",
   "id": "fcc27337",
   "metadata": {},
   "source": [
    "*None of the visualizations within the project are suggesting that there is a causal effect between relationships. They are purely for an understanding of variable correllation, as well as a deeper understanding of the Prosper loan interest rates.*"
   ]
  },
  {
   "cell_type": "markdown",
   "id": "bac0acac",
   "metadata": {},
   "source": [
    "The project contains 4 separate dashboards throughout the Tableau Story. Some of the plots utilized in these dashboards include: <br>"
   ]
  },
  {
   "cell_type": "markdown",
   "id": "f6a8df6f",
   "metadata": {},
   "source": [
    " - Histograms\n",
    " - Box-and-Whisker Plots\n",
    " - Line Plots\n",
    " - Horizontal Bars\n",
    " - Gantt\n",
    " - Maps"
   ]
  },
  {
   "cell_type": "markdown",
   "id": "37015b4d",
   "metadata": {},
   "source": [
    "Where encodings were needed to provide further insight to variables and their relationships, I mainly used color-encodings to call out differences and key points. For example, on the map I used a color scale where the states more red had higher interest rates, and more green had lower rates. The plots below the map in the dashboard used the same colors to highlight the top/bottom 10 state interest rates. Where applicable (including in the prior example), I clarified the color meanings with a legend. <br>\n",
    "\n",
    "There were 3 drafts to the project including the final draft. The changes were made following feedback from a peer review. The main changes made were aesthetic (i.e. unclear formatting of axes labels), but there were also some portions of the dashboards either added or removed. (For a full description of all of the changes made - as well as the early drafts of the project - see below)."
   ]
  },
  {
   "cell_type": "markdown",
   "id": "d1e1142e",
   "metadata": {},
   "source": [
    "### Feedback"
   ]
  },
  {
   "attachments": {},
   "cell_type": "markdown",
   "id": "b1045434",
   "metadata": {},
   "source": [
    "| Version # | Reviewer | Feedback | Action |\n",
    "|------|------|------|------|\n",
    "| 1 | Peer Review | Rate-Income Sheet x-axis is unreadable in some of the groups. | Rotated the labels vertically. |\n",
    "| 1 | Peer Review | Change Verifiable Income x-axis label so that it is more understandable (currently default). | Changed label to just be \"Rate\". |\n",
    "| 1 | Peer Review | Unhide x-axis ticks/labels on the Credit Line Distribution Sheet. | Unhid the labels/ticks, and renamed the x/y-axes labels (I thought they could be clearer). |\n",
    "| 1 | Peer Review | Explain Percentile Ranges in Median Borrower rates per Lines of Credit, add labels on plot. | Removed the 45/55 percentile lines from the plot, they added noise and irrelevant information to the plot. |\n",
    "| 2 | Peer Review | Top 10 Borrowers States needs to be more clearly explained so that it is understood. | Removed from the dashboard altogether (it is irrelevant and confusing in this case). Instead added top 10 State Rates to the dashboard. |\n",
    "| 2 | Peer Review | Make it so the Box-and-Whisker Plot doesn't need to be scrolled on. | Adjusted dashboard accordingly. |\n",
    "| 3 | Peer Review | No defined time-frame. | Added rates over time to first dashboard in story. |"
   ]
  },
  {
   "cell_type": "markdown",
   "id": "00ff0364",
   "metadata": {},
   "source": [
    "### Project Links <br>\n",
    "\n",
    "Version 1: https://public.tableau.com/app/profile/benton.tripp/viz/ProsperLoansv1_16230942550010/Story <br>\n",
    "\n",
    "Version 2: https://public.tableau.com/app/profile/benton.tripp/viz/ProsperLoansv2/Story <br>\n",
    "\n",
    "Version 3 (Final): https://public.tableau.com/app/profile/benton.tripp/viz/ProsperLoansv3Final/Story"
   ]
  },
  {
   "cell_type": "markdown",
   "id": "ce7934ac",
   "metadata": {},
   "source": [
    "### Resources"
   ]
  },
  {
   "cell_type": "markdown",
   "id": "fee87da5",
   "metadata": {},
   "source": [
    "https://www.prosper.com/about <br>\n",
    "https://help.tableau.com/current/pro/desktop/en-us/reference_lines.htm<br>\n",
    "https://community.tableau.com/s/question/0D54T00000HN5osSAD/how-to-rotate-axis-labels-to-45-degree-inclination<br>\n",
    "https://jupyter-notebook.readthedocs.io/en/stable/examples/Notebook/Working%20With%20Markdown%20Cells.html"
   ]
  }
 ],
 "metadata": {
  "kernelspec": {
   "display_name": "Python 3",
   "language": "python",
   "name": "python3"
  },
  "language_info": {
   "codemirror_mode": {
    "name": "ipython",
    "version": 3
   },
   "file_extension": ".py",
   "mimetype": "text/x-python",
   "name": "python",
   "nbconvert_exporter": "python",
   "pygments_lexer": "ipython3",
   "version": "3.9.4"
  }
 },
 "nbformat": 4,
 "nbformat_minor": 5
}
